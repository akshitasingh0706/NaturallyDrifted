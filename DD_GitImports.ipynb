{
  "nbformat": 4,
  "nbformat_minor": 0,
  "metadata": {
    "colab": {
      "name": "DD_GitImports.ipynb",
      "provenance": [],
      "authorship_tag": "ABX9TyNFEWbT3Y2LlxqnJ8rvdW53",
      "include_colab_link": true
    },
    "kernelspec": {
      "name": "python3",
      "display_name": "Python 3"
    },
    "language_info": {
      "name": "python"
    }
  },
  "cells": [
    {
      "cell_type": "markdown",
      "metadata": {
        "id": "view-in-github",
        "colab_type": "text"
      },
      "source": [
        "<a href=\"https://colab.research.google.com/github/akshitasingh0706/DriftDetection/blob/main/DD_GitImports.ipynb\" target=\"_parent\"><img src=\"https://colab.research.google.com/assets/colab-badge.svg\" alt=\"Open In Colab\"/></a>"
      ]
    },
    {
      "cell_type": "code",
      "execution_count": 1,
      "metadata": {
        "colab": {
          "base_uri": "https://localhost:8080/"
        },
        "id": "cCDKDPv0-0HY",
        "outputId": "d9db59ed-a74e-42c2-88f3-bc6b31115441"
      },
      "outputs": [
        {
          "output_type": "stream",
          "name": "stdout",
          "text": [
            "Mounted at /content/gdrive\n"
          ]
        }
      ],
      "source": [
        "from google.colab import drive\n",
        "drive.mount('/content/gdrive', force_remount=True)"
      ]
    },
    {
      "cell_type": "code",
      "source": [
        "!unzip gdrive/My\\ Drive/Corona_NLP2.zip"
      ],
      "metadata": {
        "colab": {
          "base_uri": "https://localhost:8080/"
        },
        "id": "rjPMfxcbDUt8",
        "outputId": "c160136f-959e-4e68-99a3-0ff764cfa7e2"
      },
      "execution_count": 2,
      "outputs": [
        {
          "output_type": "stream",
          "name": "stdout",
          "text": [
            "Archive:  gdrive/My Drive/Corona_NLP2.zip\n",
            "  inflating: Covid-19 Twitter Dataset (Apr-Jun 2020).csv  \n",
            "  inflating: Covid-19 Twitter Dataset (Aug-Sep 2020).csv  \n"
          ]
        }
      ]
    },
    {
      "cell_type": "code",
      "source": [
        "import pandas as pd\n",
        "import numpy as np\n",
        "import matplotlib.pyplot as plt\n",
        "from typing import Callable, Dict, Optional, Union\n",
        "from sklearn.decomposition import PCA, TruncatedSVD\n",
        "from scipy import stats"
      ],
      "metadata": {
        "id": "xv88PA8SDWvV"
      },
      "execution_count": 3,
      "outputs": []
    },
    {
      "cell_type": "code",
      "source": [
        "features = ['created_at', 'original_text', 'sentiment']\n",
        "data1 = pd.read_csv(\"Covid-19 Twitter Dataset (Apr-Jun 2020).csv\", encoding = 'ISO-8859-1')[features]\n",
        "data2 = pd.read_csv(\"Covid-19 Twitter Dataset (Aug-Sep 2020).csv\", encoding = 'ISO-8859-1')[features]\n",
        "\n",
        "data1 = data1[data1['sentiment'] != 'neu']\n",
        "data2 = data2[data2['sentiment'] != 'neu']\n",
        "\n",
        "data1['sentiment'] = data1['sentiment'].replace('pos', 1)\n",
        "data1['sentiment'] = data1['sentiment'].replace('neg', 0)\n",
        "\n",
        "\n",
        "data2['sentiment'] = data2['sentiment'].replace('pos', 1)\n",
        "data2['sentiment'] = data2['sentiment'].replace('neg', 0)\n",
        "\n",
        "data1 = np.array(data1)\n",
        "np.random.shuffle(data1)\n",
        "X1 = np.array([i[1] for i in data1])\n",
        "\n",
        "data2 = np.array(data2)\n",
        "np.random.shuffle(data1)\n",
        "X2 = np.array([i[1] for i in data2])\n",
        "\n",
        "print(\"X1 length:\", len(X1))\n",
        "print(\"X2 length:\", len(X2))"
      ],
      "metadata": {
        "colab": {
          "base_uri": "https://localhost:8080/"
        },
        "id": "rCifGfHgDbiY",
        "outputId": "09ceb4d2-7580-445b-9f0c-65832cf827ae"
      },
      "execution_count": 4,
      "outputs": [
        {
          "output_type": "stream",
          "name": "stderr",
          "text": [
            "/usr/local/lib/python3.7/dist-packages/ipykernel_launcher.py:8: SettingWithCopyWarning: \n",
            "A value is trying to be set on a copy of a slice from a DataFrame.\n",
            "Try using .loc[row_indexer,col_indexer] = value instead\n",
            "\n",
            "See the caveats in the documentation: https://pandas.pydata.org/pandas-docs/stable/user_guide/indexing.html#returning-a-view-versus-a-copy\n",
            "  \n",
            "/usr/local/lib/python3.7/dist-packages/ipykernel_launcher.py:9: SettingWithCopyWarning: \n",
            "A value is trying to be set on a copy of a slice from a DataFrame.\n",
            "Try using .loc[row_indexer,col_indexer] = value instead\n",
            "\n",
            "See the caveats in the documentation: https://pandas.pydata.org/pandas-docs/stable/user_guide/indexing.html#returning-a-view-versus-a-copy\n",
            "  if __name__ == '__main__':\n"
          ]
        },
        {
          "output_type": "stream",
          "name": "stdout",
          "text": [
            "X1 length: 147892\n",
            "X2 length: 191581\n"
          ]
        }
      ]
    },
    {
      "cell_type": "code",
      "source": [
        "!cd gdrive/My\\ Drive/DFCI/TestingPackage/DD"
      ],
      "metadata": {
        "id": "198uulVzMQLI"
      },
      "execution_count": 5,
      "outputs": []
    },
    {
      "cell_type": "code",
      "source": [
        "!git clone https://github.com/akshitasingh0706/DriftDetection.git"
      ],
      "metadata": {
        "colab": {
          "base_uri": "https://localhost:8080/"
        },
        "id": "oKdlqFiMMQNt",
        "outputId": "e270416f-a53f-4740-ae32-78527828dfbc"
      },
      "execution_count": 6,
      "outputs": [
        {
          "output_type": "stream",
          "name": "stdout",
          "text": [
            "Cloning into 'DriftDetection'...\n",
            "fatal: could not read Username for 'https://github.com': No such device or address\n"
          ]
        }
      ]
    },
    {
      "cell_type": "code",
      "source": [
        "!ls"
      ],
      "metadata": {
        "colab": {
          "base_uri": "https://localhost:8080/"
        },
        "id": "Gz7Ckok2MQQU",
        "outputId": "c91693a8-7337-4a0d-8e51-655b622e6fc2"
      },
      "execution_count": null,
      "outputs": [
        {
          "output_type": "stream",
          "name": "stdout",
          "text": [
            "'Covid-19 Twitter Dataset (Apr-Jun 2020).csv'   gdrive\n",
            "'Covid-19 Twitter Dataset (Aug-Sep 2020).csv'   sample_data\n"
          ]
        }
      ]
    },
    {
      "cell_type": "code",
      "source": [
        ""
      ],
      "metadata": {
        "id": "m2e6DQmhMQSs"
      },
      "execution_count": null,
      "outputs": []
    },
    {
      "cell_type": "code",
      "source": [
        ""
      ],
      "metadata": {
        "id": "fke9KDk5MQU_"
      },
      "execution_count": null,
      "outputs": []
    },
    {
      "cell_type": "code",
      "source": [
        ""
      ],
      "metadata": {
        "id": "I6zRWBKTMQXX"
      },
      "execution_count": null,
      "outputs": []
    },
    {
      "cell_type": "code",
      "source": [
        ""
      ],
      "metadata": {
        "id": "YFgE50qqMQaM"
      },
      "execution_count": null,
      "outputs": []
    },
    {
      "cell_type": "code",
      "source": [
        "!cp -T gdrive/My\\ Drive/DFCI/TestingPackage/DriftDetection/sampling.py"
      ],
      "metadata": {
        "colab": {
          "base_uri": "https://localhost:8080/"
        },
        "id": "0N-DtlFlHZXP",
        "outputId": "98d7259d-ef6b-4e64-ecdd-a8b26fec1098"
      },
      "execution_count": null,
      "outputs": [
        {
          "output_type": "stream",
          "name": "stdout",
          "text": [
            "cp: missing destination file operand after 'gdrive/My Drive/DFCI/TestingPackage/DriftDetection/sampling.py'\n",
            "Try 'cp --help' for more information.\n"
          ]
        }
      ]
    },
    {
      "cell_type": "code",
      "source": [
        "!unzip gdrive/My\\ Drive/DFCI/TestingPackage/DriftDetection.zip"
      ],
      "metadata": {
        "colab": {
          "base_uri": "https://localhost:8080/"
        },
        "id": "p2X9IUzPDd5K",
        "outputId": "3b58f41e-9ac0-447c-b8cf-a09444286e11"
      },
      "execution_count": null,
      "outputs": [
        {
          "output_type": "stream",
          "name": "stdout",
          "text": [
            "Archive:  gdrive/My Drive/DFCI/TestingPackage/DriftDetection.zip\n",
            "   creating: DriftDetection/\n",
            "  inflating: DriftDetection/LICENSE  \n",
            "  inflating: DriftDetection/requirements.txt  \n",
            "  inflating: DriftDetection/embedding.py  \n",
            "  inflating: DriftDetection/README.md  \n",
            "  inflating: DriftDetection/distributions.py  \n",
            "  inflating: __MACOSX/DriftDetection/._distributions.py  \n",
            "  inflating: DriftDetection/baseModels.py  \n",
            "  inflating: DriftDetection/sampling.py  \n",
            "  inflating: DriftDetection/AlibiDetectors.py  \n",
            "  inflating: DriftDetection/myDetectors.py  \n",
            "   creating: DriftDetection/.git/\n",
            "  inflating: DriftDetection/.git/config  \n",
            "   creating: DriftDetection/.git/objects/\n",
            "  inflating: DriftDetection/.git/HEAD  \n",
            "   creating: DriftDetection/.git/info/\n",
            "   creating: DriftDetection/.git/logs/\n",
            "  inflating: DriftDetection/.git/description  \n",
            "   creating: DriftDetection/.git/hooks/\n",
            "   creating: DriftDetection/.git/refs/\n",
            "  inflating: DriftDetection/.git/index  \n",
            "  inflating: DriftDetection/.git/packed-refs  \n",
            "  inflating: DriftDetection/.git/COMMIT_EDITMSG  \n",
            "  inflating: DriftDetection/.git/FETCH_HEAD  \n",
            "   creating: DriftDetection/.git/objects/d8/\n",
            "   creating: DriftDetection/.git/objects/e3/\n",
            "   creating: DriftDetection/.git/objects/pack/\n",
            "   creating: DriftDetection/.git/objects/info/\n",
            "   creating: DriftDetection/.git/objects/91/\n",
            "   creating: DriftDetection/.git/objects/db/\n",
            "   creating: DriftDetection/.git/objects/13/\n",
            "  inflating: DriftDetection/.git/info/exclude  \n",
            "  inflating: DriftDetection/.git/logs/HEAD  \n",
            "   creating: DriftDetection/.git/logs/refs/\n",
            "  inflating: DriftDetection/.git/hooks/commit-msg.sample  \n",
            "  inflating: DriftDetection/.git/hooks/pre-rebase.sample  \n",
            "  inflating: DriftDetection/.git/hooks/pre-commit.sample  \n",
            "  inflating: DriftDetection/.git/hooks/applypatch-msg.sample  \n",
            "  inflating: DriftDetection/.git/hooks/fsmonitor-watchman.sample  \n",
            "  inflating: DriftDetection/.git/hooks/pre-receive.sample  \n",
            "  inflating: DriftDetection/.git/hooks/prepare-commit-msg.sample  \n",
            "  inflating: DriftDetection/.git/hooks/post-update.sample  \n",
            "  inflating: DriftDetection/.git/hooks/pre-merge-commit.sample  \n",
            "  inflating: DriftDetection/.git/hooks/pre-applypatch.sample  \n",
            "  inflating: DriftDetection/.git/hooks/pre-push.sample  \n",
            "  inflating: DriftDetection/.git/hooks/update.sample  \n",
            "  inflating: DriftDetection/.git/hooks/push-to-checkout.sample  \n",
            "   creating: DriftDetection/.git/refs/heads/\n",
            "   creating: DriftDetection/.git/refs/tags/\n",
            "   creating: DriftDetection/.git/refs/remotes/\n",
            "  inflating: DriftDetection/.git/objects/d8/6f5d0d459c09c498fd27f11659c7a60945b53c  \n",
            "  inflating: DriftDetection/.git/objects/e3/76e902aa8c5607316110426e9b276ce905c785  \n",
            "  inflating: DriftDetection/.git/objects/pack/pack-d744217f75ecb3a7737d80d0ae1dca39d718ba51.pack  \n",
            "  inflating: DriftDetection/.git/objects/pack/pack-d744217f75ecb3a7737d80d0ae1dca39d718ba51.idx  \n",
            "  inflating: DriftDetection/.git/objects/91/e3381c0b83714106e92e006419d44d663f8517  \n",
            "  inflating: DriftDetection/.git/objects/db/05f8dbfc345ca892beb13e1d0c33dbb8d15095  \n",
            "  inflating: DriftDetection/.git/objects/13/ef941ee61c556dbc75712b574ddda17d3db000  \n",
            "   creating: DriftDetection/.git/logs/refs/heads/\n",
            "   creating: DriftDetection/.git/logs/refs/remotes/\n",
            "  inflating: DriftDetection/.git/refs/heads/main  \n",
            "   creating: DriftDetection/.git/refs/remotes/origin/\n",
            "  inflating: DriftDetection/.git/logs/refs/heads/main  \n",
            "   creating: DriftDetection/.git/logs/refs/remotes/origin/\n",
            "  inflating: DriftDetection/.git/refs/remotes/origin/HEAD  \n",
            "  inflating: DriftDetection/.git/refs/remotes/origin/main  \n",
            "  inflating: DriftDetection/.git/logs/refs/remotes/origin/HEAD  \n",
            "  inflating: DriftDetection/.git/logs/refs/remotes/origin/main  \n"
          ]
        }
      ]
    },
    {
      "cell_type": "code",
      "source": [
        "import sampling.py"
      ],
      "metadata": {
        "colab": {
          "base_uri": "https://localhost:8080/",
          "height": 312
        },
        "id": "QTMQa6t_Dd8Q",
        "outputId": "3da7e0d0-dfea-4f41-82bd-b710228dddde"
      },
      "execution_count": null,
      "outputs": [
        {
          "output_type": "error",
          "ename": "ModuleNotFoundError",
          "evalue": "ignored",
          "traceback": [
            "\u001b[0;31m---------------------------------------------------------------------------\u001b[0m",
            "\u001b[0;31mModuleNotFoundError\u001b[0m                       Traceback (most recent call last)",
            "\u001b[0;32m<ipython-input-22-a45f59e6f537>\u001b[0m in \u001b[0;36m<module>\u001b[0;34m()\u001b[0m\n\u001b[0;32m----> 1\u001b[0;31m \u001b[0;32mimport\u001b[0m \u001b[0msampling\u001b[0m\u001b[0;34m.\u001b[0m\u001b[0mpy\u001b[0m\u001b[0;34m\u001b[0m\u001b[0;34m\u001b[0m\u001b[0m\n\u001b[0m",
            "\u001b[0;31mModuleNotFoundError\u001b[0m: No module named 'sampling'",
            "",
            "\u001b[0;31m---------------------------------------------------------------------------\u001b[0;32m\nNOTE: If your import is failing due to a missing package, you can\nmanually install dependencies using either !pip or !apt.\n\nTo view examples of installing some common dependencies, click the\n\"Open Examples\" button below.\n\u001b[0;31m---------------------------------------------------------------------------\u001b[0m\n"
          ],
          "errorDetails": {
            "actions": [
              {
                "action": "open_url",
                "actionText": "Open Examples",
                "url": "/notebooks/snippets/importing_libraries.ipynb"
              }
            ]
          }
        }
      ]
    },
    {
      "cell_type": "code",
      "source": [
        ""
      ],
      "metadata": {
        "id": "p2FuraSPDd_I"
      },
      "execution_count": null,
      "outputs": []
    }
  ]
}